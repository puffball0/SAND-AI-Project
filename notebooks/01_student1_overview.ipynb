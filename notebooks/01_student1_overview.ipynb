from google.colab import drive
drive.mount('/content/drive')

import os
import librosa
import pandas as pd
import matplotlib.pyplot as plt
from matplotlib.backends.backend_pdf import PdfPages

dataset_path = "/content/drive/MyDrive/SAND_Challenge/SAND_Challenge_task1_dataset/task1/training"
metadata_path = "/content/drive/MyDrive/SAND_Challenge/SAND_Challenge_task1_dataset/task1/sand_task_1.xlsx"
os.makedirs("plots", exist_ok=True)

meta = pd.read_excel(metadata_path)

data = []
for folder in os.listdir(dataset_path):
    folder_path = os.path.join(dataset_path, folder)
    if os.path.isdir(folder_path):
        for file in os.listdir(folder_path):
            if file.endswith(".wav"):
                file_path = os.path.join(folder_path, file)
                try:
                    duration = librosa.get_duration(path=file_path)
                    speaker_info = meta[meta['filename'] == file] if 'filename' in meta.columns else pd.DataFrame()
                    speaker = speaker_info['speaker'].values[0] if not speaker_info.empty and 'speaker' in speaker_info.columns else None
                    gender = speaker_info['gender'].values[0] if not speaker_info.empty and 'gender' in speaker_info.columns else None
                    data.append([file, folder, duration, speaker, gender])
                except:
                    continue

df = pd.DataFrame(data, columns=["filename", "label", "duration", "speaker", "gender"])

summary_list = []
for label, group in df.groupby("label"):
    num_files = group.shape[0]
    total_dur = group["duration"].sum()
    avg_dur = group["duration"].mean()
    min_dur = group["duration"].min()
    max_dur = group["duration"].max()
    summary_list.append([label, num_files, total_dur, avg_dur, min_dur, max_dur])

summary_df = pd.DataFrame(summary_list, columns=["Class", "Num_Files", "Total_Duration", "Avg_Duration", "Min_Duration", "Max_Duration"])
summary_df.to_csv("plots/dataset_summary_per_class.csv", index=False)

plt.figure(figsize=(10,6))
df['label'].value_counts().plot(kind='bar', color='skyblue', edgecolor='black')
plt.title("Class Distribution")
plt.xlabel("Class")
plt.ylabel("Number of Samples")
plt.tight_layout()
plt.savefig("plots/class_distribution.pdf")
plt.close()

avg_dur_per_class = summary_df.set_index('Class')['Avg_Duration'].sort_values()
plt.figure(figsize=(10,6))
avg_dur_per_class.plot(kind='barh', color='salmon', edgecolor='black')
plt.title("Average Duration per Class")
plt.xlabel("Average Duration (seconds)")
plt.ylabel("Class")
plt.tight_layout()
plt.savefig("plots/avg_duration_per_class.pdf")
plt.close()

for label, group in df.groupby("label"):
    plt.figure(figsize=(8,5))
    plt.hist(group["duration"], bins=30, color='lightgreen', edgecolor='black')
    plt.title(f"Duration Distribution - {label}")
    plt.xlabel("Duration (seconds)")
    plt.ylabel("Frequency")
    plt.tight_layout()
    plt.savefig(f"plots/duration_distribution_{label}.pdf")
    plt.close()

plt.figure(figsize=(10,6))
if 'gender' in df.columns and df['gender'].notnull().any():
    df['gender'].value_counts().plot(kind='bar', color='orchid', edgecolor='black')
    plt.title("Gender Distribution")
    plt.xlabel("Gender")
    plt.ylabel("Number of Samples")
    plt.tight_layout()
    plt.savefig("plots/gender_distribution.pdf")
    plt.close()

with PdfPages("plots/SAND_task1_full_report.pdf") as pdf:
    fig, ax = plt.subplots(figsize=(10,6))
    df['label'].value_counts().plot(kind='bar', color='skyblue', edgecolor='black', ax=ax)
    ax.set_title("Class Distribution")
    ax.set_xlabel("Class")
    ax.set_ylabel("Number of Samples")
    pdf.savefig(fig)
    plt.close(fig)

    fig, ax = plt.subplots(figsize=(10,6))
    avg_dur_per_class.plot(kind='barh', color='salmon', edgecolor='black', ax=ax)
    ax.set_title("Average Duration per Class")
    ax.set_xlabel("Average Duration (seconds)")
    ax.set_ylabel("Class")
    pdf.savefig(fig)
    plt.close(fig)

    for label, group in df.groupby("label"):
        fig, ax = plt.subplots(figsize=(8,5))
        ax.hist(group["duration"], bins=30, color='lightgreen', edgecolor='black')
        ax.set_title(f"Duration Distribution - {label}")
        ax.set_xlabel("Duration (seconds)")
        ax.set_ylabel("Frequency")
        pdf.savefig(fig)
        plt.close(fig)

print("All CSVs and PDFs saved inside 'plots/' folder")

