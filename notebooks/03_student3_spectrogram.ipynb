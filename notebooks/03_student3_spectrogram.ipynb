# Install required libraries
!pip install librosa soundfile matplotlib seaborn pandas numpy openpyxl

# Import necessary libraries
import numpy as np
import pandas as pd
import matplotlib.pyplot as plt
import seaborn as sns
import librosa
import librosa.display
import os
from google.colab import drive

# Mount Google Drive
drive.mount('/content/drive')

# Function to find correct paths
def find_correct_paths():
    """Find the correct paths for Excel file and training folder"""
    possible_base_paths = [
        '/content/drive/MyDrive/task1/',
        '/content/drive/MyDrive/Task1/',
        '/content/drive/MyDrive/',
        '/content/drive/MyDrive/sand_task/',
    ]
    
    excel_file = None
    training_folder = None
    
    for base_path in possible_base_paths:
        try:
            # Check for Excel file
            possible_excel_files = [
                'sand_task_1.xlsx',
                'sand_task_1.XLSX',
                'task1.xlsx',
                'data.xlsx'
            ]
            
            for excel_name in possible_excel_files:
                test_path = os.path.join(base_path, excel_name)
                if os.path.exists(test_path):
                    excel_file = test_path
                    print(f"✓ Found Excel file: {excel_file}")
                    break
            
            # Check for training folder
            possible_training_folders = [
                'training',
                'Training',
                'TRAINING',
                'labels',
                'Labels',
                'data',
                'Data'
            ]
            
            for folder_name in possible_training_folders:
                test_path = os.path.join(base_path, folder_name)
                if os.path.exists(test_path):
                    training_folder = test_path
                    print(f"✓ Found training folder: {training_folder}")
                    break
            
            if excel_file and training_folder:
                return excel_file, training_folder, base_path
                
        except Exception as e:
            continue
    
    # If not found, let user know and explore drive
    print("\n Exploring Google Drive structure to find files...")
    explore_drive_structure('/content/drive/MyDrive/')
    
    return None, None, None

def explore_drive_structure(start_path, max_depth=3, current_depth=0):
    """Explore drive structure to help find files"""
    if current_depth > max_depth:
        return
    
    try:
        items = os.listdir(start_path)
        for item in items:
            item_path = os.path.join(start_path, item)
            indent = "  " * current_depth
            
            if os.path.isdir(item_path):
                print(f"{indent} {item}/")
                # Check if this might be our target folder
                if 'task' in item.lower() or 'sand' in item.lower() or 'train' in item.lower():
                    explore_drive_structure(item_path, max_depth, current_depth + 1)
            else:
                if item.endswith(('.xlsx', '.xls')) or 'task' in item.lower() or 'sand' in item.lower():
                    print(f"{indent} {item}")
    except PermissionError:
        pass

# Find correct paths
print(" Searching for files in Google Drive...")
excel_file, training_folder, base_path = find_correct_paths()

# If automatic detection fails, use manual input
if not excel_file or not training_folder:
    print("\n Could not automatically find files.")
    print("Please check your Google Drive structure and update the paths manually.")
    
    # Show what's in the main drive directory
    print("\nContents of /content/drive/MyDrive/:")
    try:
        items = os.listdir('/content/drive/MyDrive/')
        for item in items:
            item_path = os.path.join('/content/drive/MyDrive/', item)
            if os.path.isdir(item_path):
                print(f" {item}/")
            else:
                print(f" {item}")
    except Exception as e:
        print(f"Error listing directory: {e}")
    
    # Use default paths (you may need to update these)
    base_path = '/content/drive/MyDrive/task1/'
    excel_file = os.path.join(base_path, 'sand_task_1.xlsx')
    training_folder = os.path.join(base_path, 'training/')
    
    print(f"\nUsing default paths (update if incorrect):")
    print(f"Base path: {base_path}")
    print(f"Excel file: {excel_file}")
    print(f"Training folder: {training_folder}")

# Load the Excel file with error handling
try:
    if os.path.exists(excel_file):
        df = pd.read_excel(excel_file)
        print(f"\n Successfully loaded Excel file!")
        print("DataFrame shape:", df.shape)
        print("\nFirst few rows:")
        print(df.head())
        print("\nColumn names:")
        print(df.columns.tolist())
    else:
        print(f"\n Excel file not found at: {excel_file}")
        # Create a dummy dataframe for demonstration
        print("Creating a dummy dataframe for demonstration...")
        df = pd.DataFrame({
            'id': range(1, 6),
            'age': [25, 30, 35, 28, 32],
            'sex': ['M', 'F', 'M', 'F', 'M'],
            'class': ['A', 'B', 'C', 'A', 'B']
        })
        print("Dummy DataFrame created:")
        print(df)
except Exception as e:
    print(f"Error loading Excel file: {e}")
    # Create dummy data
    df = pd.DataFrame({
        'id': range(1, 6),
        'age': [25, 30, 35, 28, 32],
        'sex': ['M', 'F', 'M', 'F', 'M'],
        'class': ['A', 'B', 'C', 'A', 'B']
    })

# Explore the training folder structure
print(f"\n Exploring training folder: {training_folder}")

if os.path.exists(training_folder):
    # Find all class/label folders
    label_folders = []
    for item in os.listdir(training_folder):
        item_path = os.path.join(training_folder, item)
        if os.path.isdir(item_path):
            label_folders.append(item)
    
    print(f"Found {len(label_folders)} label folders: {label_folders}")
    
    # Collect all audio files with their labels
    audio_files = []
    for label_folder in label_folders:
        label_path = os.path.join(training_folder, label_folder)
        audio_extensions = ('.wav', '.mp3', '.flac', '.m4a', '.WAV', '.MP3')
        
        for file in os.listdir(label_path):
            if file.endswith(audio_extensions):
                audio_files.append({
                    'file_path': os.path.join(label_path, file),
                    'filename': file,
                    'label': label_folder
                })
    
    print(f"Total audio files found: {len(audio_files)}")
    
    # Show distribution of files across labels
    if audio_files:
        label_counts = {}
        for audio in audio_files:
            label = audio['label']
            label_counts[label] = label_counts.get(label, 0) + 1
        
        print("\nFile distribution across labels:")
        for label, count in label_counts.items():
            print(f"  {label}: {count} files")
        
        # Test if we can read audio files
        print("\n Testing audio file reading...")
        test_success = 0
        for i, audio_info in enumerate(audio_files[:3]):  # Test first 3 files
            try:
                y, sr = librosa.load(audio_info['file_path'])
                print(f" {audio_info['filename']}: {len(y)/sr:.2f}s, {sr}Hz")
                test_success += 1
            except Exception as e:
                print(f" {audio_info['filename']}: Error - {e}")
        
        if test_success == 0:
            print(" Could not read any audio files. Please check file formats and permissions.")
        
    else:
        print(" No audio files found in the training folder.")
        print("Available files in label folders:")
        for label_folder in label_folders:
            label_path = os.path.join(training_folder, label_folder)
            files = os.listdir(label_path)
            print(f"  {label_folder}: {files[:5]}")  # Show first 5 files
            
else:
    print(f" Training folder not found at: {training_folder}")
    print("Available directories in base path:")
    try:
        if os.path.exists(base_path):
            items = os.listdir(base_path)
            for item in items:
                item_path = os.path.join(base_path, item)
                if os.path.isdir(item_path):
                    print(f" {item}/")
                else:
                    print(f" {item}")
        else:
            print(f"Base path {base_path} also doesn't exist.")
    except Exception as e:
        print(f"Error exploring base path: {e}")

# If we have audio files, proceed with analysis
if 'audio_files' in locals() and audio_files:
    
    # Function for comprehensive spectral analysis per class
    def analyze_class_spectral_features(audio_files, class_label, num_samples=2):
        """
        Perform comprehensive spectral and frequency analysis for a specific class
        """
        print(f"\n{'='*60}")
        print(f"SPECTRAL AND FREQUENCY ANALYSIS FOR CLASS: {class_label}")
        print(f"{'='*60}")
        
        # Filter audio files for this class
        class_files = [af for af in audio_files if af['label'] == class_label]
        print(f"Found {len(class_files)} files for class '{class_label}'")
        
        if len(class_files) == 0:
            print(f"No files found for class {class_label}")
            return None
        
        # Analyze first few samples
        samples_to_analyze = min(num_samples, len(class_files))
        
        for i in range(samples_to_analyze):
            audio_info = class_files[i]
            print(f"\nAnalyzing sample {i+1}/{samples_to_analyze}: {audio_info['filename']}")
            analyze_single_file_comprehensive(audio_info['file_path'], audio_info['filename'], class_label)
        
        return class_files

    def analyze_single_file_comprehensive(file_path, filename, class_label):
        """
        Perform comprehensive spectral and frequency analysis for a single file
        """
        try:
            # Load audio file
            y, sr = librosa.load(file_path)
            duration = len(y) / sr
            
            print(f"  Duration: {duration:.2f}s, Sample Rate: {sr}Hz")
            
            # Create comprehensive analysis figure
            fig = plt.figure(figsize=(20, 12))
            fig.suptitle(f'Spectral Analysis - Class: {class_label} | File: {filename}', 
                        fontsize=16, y=0.98)
            
            # 1. Waveform
            ax1 = plt.subplot(2, 3, 1)
            librosa.display.waveshow(y, sr=sr, ax=ax1)
            ax1.set_title('Audio Waveform', fontweight='bold')
            ax1.set_xlabel('Time (s)')
            ax1.set_ylabel('Amplitude')
            ax1.grid(True, alpha=0.3)
            
            # 2. Frequency Spectrum (FFT)
            ax2 = plt.subplot(2, 3, 2)
            fft = np.fft.fft(y)
            magnitude = np.abs(fft)
            frequency = np.linspace(0, sr, len(magnitude))
            left_frequency = frequency[:len(frequency)//2]
            left_magnitude = magnitude[:len(magnitude)//2]
            
            ax2.plot(left_frequency, left_magnitude, color='blue', linewidth=1)
            ax2.set_title('Frequency Spectrum (FFT)', fontweight='bold')
            ax2.set_xlabel('Frequency (Hz)')
            ax2.set_ylabel('Magnitude')
            ax2.set_xlim(0, min(8000, sr//2))
            ax2.grid(True, alpha=0.3)
            
            # 3. Spectrogram
            ax3 = plt.subplot(2, 3, 3)
            D = librosa.amplitude_to_db(np.abs(librosa.stft(y)), ref=np.max)
            img = librosa.display.specshow(D, sr=sr, x_axis='time', y_axis='hz', ax=ax3, cmap='viridis')
            ax3.set_title('Spectrogram', fontweight='bold')
            ax3.set_xlabel('Time (s)')
            ax3.set_ylabel('Frequency (Hz)')
            plt.colorbar(img, ax=ax3, format='%+2.0f dB')
            
            # 4. Mel Spectrogram
            ax4 = plt.subplot(2, 3, 4)
            S = librosa.feature.melspectrogram(y=y, sr=sr, n_mels=128)
            S_dB = librosa.power_to_db(S, ref=np.max)
            librosa.display.specshow(S_dB, sr=sr, x_axis='time', y_axis='mel', ax=ax4, cmap='magma')
            ax4.set_title('Mel Spectrogram', fontweight='bold')
            ax4.set_xlabel('Time (s)')
            ax4.set_ylabel('Mel Frequency')
            plt.colorbar(ax4.images[0], ax=ax4, format='%+2.0f dB')
            
            # 5. MFCCs
            ax5 = plt.subplot(2, 3, 5)
            mfccs = librosa.feature.mfcc(y=y, sr=sr, n_mfcc=13)
            librosa.display.specshow(mfccs, sr=sr, x_axis='time', ax=ax5, cmap='coolwarm')
            ax5.set_title('MFCC Coefficients', fontweight='bold')
            ax5.set_xlabel('Time (s)')
            ax5.set_ylabel('MFCC Index')
            plt.colorbar(ax5.images[0], ax=ax5)
            
            # 6. Spectral Features
            ax6 = plt.subplot(2, 3, 6)
            spectral_centroid = librosa.feature.spectral_centroid(y=y, sr=sr)[0]
            spectral_rolloff = librosa.feature.spectral_rolloff(y=y, sr=sr)[0]
            frames = range(len(spectral_centroid))
            t = librosa.frames_to_time(frames, sr=sr)
            
            ax6.plot(t, spectral_centroid, label='Spectral Centroid', color='blue')
            ax6.plot(t, spectral_rolloff, label='Spectral Rolloff', color='red')
            ax6.set_title('Spectral Centroid & Rolloff', fontweight='bold')
            ax6.set_xlabel('Time (s)')
            ax6.set_ylabel('Frequency (Hz)')
            ax6.legend()
            ax6.grid(True, alpha=0.3)
            
            plt.tight_layout()
            plt.show()
            
            # Calculate and display key metrics
            display_audio_metrics(y, sr, filename, class_label)
            
        except Exception as e:
            print(f"Error analyzing {file_path}: {str(e)}")

    def display_audio_metrics(y, sr, filename, class_label):
        """
        Calculate and display key audio metrics
        """
        # Calculate features
        duration = len(y) / sr
        rms_energy = np.sqrt(np.mean(y**2))
        zcr_mean = np.mean(librosa.feature.zero_crossing_rate(y))
        
        spectral_centroid = librosa.feature.spectral_centroid(y=y, sr=sr)
        spectral_bandwidth = librosa.feature.spectral_bandwidth(y=y, sr=sr)
        spectral_rolloff = librosa.feature.spectral_rolloff(y=y, sr=sr)
        
        # Calculate statistics
        features = {
            'Duration (s)': duration,
            'RMS Energy': rms_energy,
            'Zero Crossing Rate': zcr_mean,
            'Spectral Centroid Mean (Hz)': np.mean(spectral_centroid),
            'Spectral Centroid Std (Hz)': np.std(spectral_centroid),
            'Spectral Bandwidth Mean (Hz)': np.mean(spectral_bandwidth),
            'Spectral Rolloff Mean (Hz)': np.mean(spectral_rolloff),
        }
        
        print(f"\nKey Metrics for {filename} (Class: {class_label}):")
        for key, value in features.items():
            print(f"  {key}: {value:.4f}")

    # MAIN ANALYSIS EXECUTION
    print(f"\n{'#'*80}")
    print("STARTING COMPREHENSIVE SPECTRAL AND FREQUENCY ANALYSIS")
    print(f"{'#'*80}")
    
    # Analyze each class individually
    for class_label in label_folders:
        analyze_class_spectral_features(audio_files, class_label, num_samples=2)
    
    print(f"\n{'#'*80}")
    print("ANALYSIS COMPLETED!")
    print(f"{'#'*80}")
    
else:
    print("\n Cannot proceed with analysis - no audio files found or loaded properly.")
    print("Please check:")
    print("1. File paths are correct")
    print("2. Audio files exist in the training folder")
    print("3. File permissions are correct")
    print("4. Audio formats are supported (.wav, .mp3, .flac, .m4a)")
